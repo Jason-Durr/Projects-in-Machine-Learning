{
  "nbformat": 4,
  "nbformat_minor": 0,
  "metadata": {
    "colab": {
      "name": "Homework2.ipynb",
      "provenance": [],
      "authorship_tag": "ABX9TyNwNt9LAKeZlwajgg4ykfhj",
      "include_colab_link": true
    },
    "kernelspec": {
      "name": "python3",
      "display_name": "Python 3"
    },
    "language_info": {
      "name": "python"
    }
  },
  "cells": [
    {
      "cell_type": "markdown",
      "metadata": {
        "id": "view-in-github",
        "colab_type": "text"
      },
      "source": [
        "<a href=\"https://colab.research.google.com/github/Jason-Durr/Projects-in-Machine-Learning/blob/main/HW/Homework2.ipynb\" target=\"_parent\"><img src=\"https://colab.research.google.com/assets/colab-badge.svg\" alt=\"Open In Colab\"/></a>"
      ]
    },
    {
      "cell_type": "markdown",
      "metadata": {
        "id": "wGdNVeIzZGy7"
      },
      "source": [
        "Jason Durr"
      ]
    },
    {
      "cell_type": "markdown",
      "metadata": {
        "id": "1LwibCv1yccU"
      },
      "source": [
        "# Task 1\n",
        "\n",
        "The machine learning problem I want to solve is predicting if the home team in an NFL Football game is going to win based on weather and betting odds.  Logistic regression makes sense for this because we are trying to predict something that only has two possible outcomes - a Win or a Loss.\n",
        "\n",
        "# Task 2\n",
        "\n",
        "https://www.kaggle.com/tobycrabtree/nfl-scores-and-betting-data?select=spreadspoke_scores.csv\n",
        "\n",
        "To explore the data first we proccessed it to remove missing values as trying to replace these missing values is not really an option because using an average just would not make the row have any meaningfull data.  Then we normalized the data that is numerical to have a median of 0 and an STD of 1.  The reason I chose median over mean is that I felt this would be less skewed by a few games having intense weather events and so the median would be a better place holder for depicting the \"typical\" weather of a game.  For the categorical variables I converted them to binary variables because games can have more than 1 weather type.  Then I looked to see if there were any large correlatiions between variables to be concerned about and as expected the only major direct relationship is between the Home team being a favorite and the variable we are trying to predict, the home team winnning. This is expected as we would expect the favorite to win more so we will need to evaluate our model based on how it does compared to just picking the favorite every time.  I also looked at the descriptive stats just to see if there were any outliers worth noting."
      ]
    },
    {
      "cell_type": "code",
      "metadata": {
        "colab": {
          "resources": {
            "http://localhost:8080/nbextensions/google.colab/files.js": {
              "data": "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",
              "ok": true,
              "headers": [
                [
                  "content-type",
                  "application/javascript"
                ]
              ],
              "status": 200,
              "status_text": ""
            }
          },
          "base_uri": "https://localhost:8080/",
          "height": 89
        },
        "id": "GGV4diTUDwkF",
        "outputId": "e8235daf-bb26-4266-b042-eeadf66bd7d2"
      },
      "source": [
        "from google.colab import files\n",
        "files.upload()\n"
      ],
      "execution_count": null,
      "outputs": [
        {
          "output_type": "display_data",
          "data": {
            "text/html": [
              "\n",
              "     <input type=\"file\" id=\"files-9d621497-e9dd-4922-90b5-0e66339e9e3f\" name=\"files[]\" multiple disabled\n",
              "        style=\"border:none\" />\n",
              "     <output id=\"result-9d621497-e9dd-4922-90b5-0e66339e9e3f\">\n",
              "      Upload widget is only available when the cell has been executed in the\n",
              "      current browser session. Please rerun this cell to enable.\n",
              "      </output>\n",
              "      <script src=\"/nbextensions/google.colab/files.js\"></script> "
            ],
            "text/plain": [
              "<IPython.core.display.HTML object>"
            ]
          },
          "metadata": {}
        },
        {
          "output_type": "stream",
          "name": "stdout",
          "text": [
            "Saving kaggle.json to kaggle (1).json\n"
          ]
        },
        {
          "output_type": "execute_result",
          "data": {
            "text/plain": [
              "{'kaggle.json': b'{\"username\":\"jasondurr\",\"key\":\"a288e7df4fa66f235cefea7adda21090\"}'}"
            ]
          },
          "metadata": {},
          "execution_count": 21
        }
      ]
    },
    {
      "cell_type": "code",
      "metadata": {
        "colab": {
          "base_uri": "https://localhost:8080/"
        },
        "id": "gaXsSmcv_Cm9",
        "outputId": "85b4606b-f5ba-4479-9692-55eccb84a62a"
      },
      "source": [
        "!mkdir ~/.kaggle\n",
        "!cp kaggle.json ~/.kaggle/\n",
        "! chmod 600 ~/.kaggle/kaggle.json\n",
        "!kaggle datasets download -d tobycrabtree/nfl-scores-and-betting-data\n",
        "! unzip /content/nfl-scores-and-betting-data.zip\n",
        "\n"
      ],
      "execution_count": null,
      "outputs": [
        {
          "output_type": "stream",
          "name": "stdout",
          "text": [
            "mkdir: cannot create directory ‘/root/.kaggle’: File exists\n",
            "nfl-scores-and-betting-data.zip: Skipping, found more recently modified local copy (use --force to force download)\n",
            "Archive:  /content/nfl-scores-and-betting-data.zip\n",
            "replace nfl_stadiums.csv? [y]es, [n]o, [A]ll, [N]one, [r]ename: "
          ]
        }
      ]
    },
    {
      "cell_type": "code",
      "metadata": {
        "id": "k41YJH8Tw0sV"
      },
      "source": [
        "import pandas as pd\n",
        "import numpy as np\n",
        "from sklearn.metrics import accuracy_score\n",
        "\n",
        "\n"
      ],
      "execution_count": null,
      "outputs": []
    },
    {
      "cell_type": "markdown",
      "metadata": {
        "id": "ZcA-b4Lc19Q7"
      },
      "source": [
        "# Predicting Home team wins in outdoor stadiums\n",
        "## Inputs\n",
        "\n",
        "- Home favorite (Binary)\n",
        "- Temperature (relative to mean)\n",
        "- Humidity (relative to mean)\n",
        "- Wind\n",
        "- Over under relative to mean\n",
        "- Rain (Binary)\n",
        "- Snow (Binary)\n",
        "- Fog (Binary)\n",
        "- Playoff (Binary)\n",
        "\n",
        "## Output\n",
        "-  If home team wins\n",
        "\n",
        "## Cases to Remove\n",
        "- Week 17\n",
        "- Neutral Stadiums\n"
      ]
    },
    {
      "cell_type": "code",
      "metadata": {
        "id": "HNLb0dJjxFDr"
      },
      "source": [
        "data = pd.read_csv('spreadspoke_scores.csv')\n",
        "teams = pd.read_csv('nfl_teams.csv')"
      ],
      "execution_count": null,
      "outputs": []
    },
    {
      "cell_type": "code",
      "metadata": {
        "colab": {
          "base_uri": "https://localhost:8080/"
        },
        "id": "Q3TMG5Zb1utb",
        "outputId": "9c3098cf-abe2-4319-c870-f116d2aab8d2"
      },
      "source": [
        "data.columns"
      ],
      "execution_count": null,
      "outputs": [
        {
          "output_type": "execute_result",
          "data": {
            "text/plain": [
              "Index(['schedule_date', 'schedule_season', 'schedule_week', 'schedule_playoff',\n",
              "       'team_home', 'score_home', 'score_away', 'team_away',\n",
              "       'team_favorite_id', 'spread_favorite', 'over_under_line', 'stadium',\n",
              "       'stadium_neutral', 'weather_temperature', 'weather_wind_mph',\n",
              "       'weather_humidity', 'weather_detail'],\n",
              "      dtype='object')"
            ]
          },
          "metadata": {},
          "execution_count": 25
        }
      ]
    },
    {
      "cell_type": "code",
      "metadata": {
        "colab": {
          "base_uri": "https://localhost:8080/"
        },
        "id": "G0ulmSSax232",
        "outputId": "4449581b-710a-4111-f536-edf5272cc961"
      },
      "source": [
        "df = data.dropna(subset=['team_favorite_id','weather_temperature'])\n",
        "df = df[df['stadium_neutral'] == False]\n",
        "df = df[df['schedule_week'] != 17]\n",
        "df.weather_detail = df.weather_detail.fillna('Clear')\n",
        "df.over_under_line = df.over_under_line.replace(' ',np.NaN)\n",
        "df.weather_detail.unique()"
      ],
      "execution_count": null,
      "outputs": [
        {
          "output_type": "execute_result",
          "data": {
            "text/plain": [
              "array(['Clear', 'DOME', 'Rain', 'Rain | Fog', 'Fog', 'Snow',\n",
              "       'DOME (Open Roof)', 'Snow | Fog', 'Snow | Freezing Rain'],\n",
              "      dtype=object)"
            ]
          },
          "metadata": {},
          "execution_count": 26
        }
      ]
    },
    {
      "cell_type": "code",
      "metadata": {
        "id": "nuBEC3NyCWSG"
      },
      "source": [
        "X = pd.DataFrame()\n",
        "X[\"Home_Favorite\"] = np.where(df['team_home'].map(teams.set_index('team_name')['team_id']) == df['team_favorite_id'], 1, 0)\n",
        "X[\"Temperature\"] = (df.weather_temperature.to_numpy() - data.weather_temperature.median())/df.weather_temperature.apply(lambda x: float(x)).std()\n",
        "X[\"Humidity\"] = (df.weather_humidity.apply(lambda x: float(x)).to_numpy() - df.weather_humidity.apply(lambda x: float(x)).median())/df.weather_humidity.apply(lambda x: float(x)).std()\n",
        "X[\"Wind\"] = (df.weather_wind_mph.to_numpy() - data.weather_wind_mph.median())/df.weather_wind_mph.apply(lambda x: float(x)).std()\n",
        "X[\"Over_Under\"] = (df.over_under_line.apply(lambda x: float(x)).to_numpy() - df.over_under_line.apply(lambda x: float(x)).median())/df.over_under_line.apply(lambda x: float(x)).std()\n",
        "X['Rain'] = df.weather_detail.apply(lambda x: int('Rain' in x)).to_numpy()\n",
        "X['Snow'] = df.weather_detail.apply(lambda x: int('Snow' in x)).to_numpy()\n",
        "X['Fog'] = df.weather_detail.apply(lambda x: int('Fog' in x)).to_numpy()\n",
        "X['Playoff'] = df.schedule_playoff.apply(lambda x: int(x)).to_numpy()\n",
        "X[\"Home_Win\"] = np.where(df.score_home > df.score_away,1,0)"
      ],
      "execution_count": null,
      "outputs": []
    },
    {
      "cell_type": "code",
      "metadata": {
        "id": "0maKJsOpOUjo"
      },
      "source": [
        "X = X.dropna()"
      ],
      "execution_count": null,
      "outputs": []
    },
    {
      "cell_type": "code",
      "metadata": {
        "colab": {
          "base_uri": "https://localhost:8080/",
          "height": 419
        },
        "id": "9UEH-8jpYKtd",
        "outputId": "54ec42c4-15a3-480d-f4c5-ed32096d4ab0"
      },
      "source": [
        "X"
      ],
      "execution_count": null,
      "outputs": [
        {
          "output_type": "execute_result",
          "data": {
            "text/html": [
              "<div>\n",
              "<style scoped>\n",
              "    .dataframe tbody tr th:only-of-type {\n",
              "        vertical-align: middle;\n",
              "    }\n",
              "\n",
              "    .dataframe tbody tr th {\n",
              "        vertical-align: top;\n",
              "    }\n",
              "\n",
              "    .dataframe thead th {\n",
              "        text-align: right;\n",
              "    }\n",
              "</style>\n",
              "<table border=\"1\" class=\"dataframe\">\n",
              "  <thead>\n",
              "    <tr style=\"text-align: right;\">\n",
              "      <th></th>\n",
              "      <th>Home_Favorite</th>\n",
              "      <th>Temperature</th>\n",
              "      <th>Humidity</th>\n",
              "      <th>Wind</th>\n",
              "      <th>Over_Under</th>\n",
              "      <th>Rain</th>\n",
              "      <th>Snow</th>\n",
              "      <th>Fog</th>\n",
              "      <th>Playoff</th>\n",
              "      <th>Home_Win</th>\n",
              "    </tr>\n",
              "  </thead>\n",
              "  <tbody>\n",
              "    <tr>\n",
              "      <th>9</th>\n",
              "      <td>1</td>\n",
              "      <td>1.165432</td>\n",
              "      <td>1.184926</td>\n",
              "      <td>0.175000</td>\n",
              "      <td>-2.555330</td>\n",
              "      <td>0</td>\n",
              "      <td>0</td>\n",
              "      <td>0</td>\n",
              "      <td>0</td>\n",
              "      <td>1</td>\n",
              "    </tr>\n",
              "    <tr>\n",
              "      <th>10</th>\n",
              "      <td>0</td>\n",
              "      <td>0.841701</td>\n",
              "      <td>0.374187</td>\n",
              "      <td>1.225003</td>\n",
              "      <td>-0.638833</td>\n",
              "      <td>0</td>\n",
              "      <td>0</td>\n",
              "      <td>0</td>\n",
              "      <td>0</td>\n",
              "      <td>0</td>\n",
              "    </tr>\n",
              "    <tr>\n",
              "      <th>11</th>\n",
              "      <td>1</td>\n",
              "      <td>1.100685</td>\n",
              "      <td>0.000000</td>\n",
              "      <td>0.525001</td>\n",
              "      <td>-2.342386</td>\n",
              "      <td>0</td>\n",
              "      <td>0</td>\n",
              "      <td>0</td>\n",
              "      <td>0</td>\n",
              "      <td>1</td>\n",
              "    </tr>\n",
              "    <tr>\n",
              "      <th>12</th>\n",
              "      <td>1</td>\n",
              "      <td>0.517970</td>\n",
              "      <td>-1.870936</td>\n",
              "      <td>-0.350001</td>\n",
              "      <td>-2.235914</td>\n",
              "      <td>0</td>\n",
              "      <td>0</td>\n",
              "      <td>0</td>\n",
              "      <td>0</td>\n",
              "      <td>1</td>\n",
              "    </tr>\n",
              "    <tr>\n",
              "      <th>13</th>\n",
              "      <td>1</td>\n",
              "      <td>0.971193</td>\n",
              "      <td>0.187094</td>\n",
              "      <td>0.000000</td>\n",
              "      <td>-1.064721</td>\n",
              "      <td>0</td>\n",
              "      <td>0</td>\n",
              "      <td>0</td>\n",
              "      <td>0</td>\n",
              "      <td>1</td>\n",
              "    </tr>\n",
              "    <tr>\n",
              "      <th>...</th>\n",
              "      <td>...</td>\n",
              "      <td>...</td>\n",
              "      <td>...</td>\n",
              "      <td>...</td>\n",
              "      <td>...</td>\n",
              "      <td>...</td>\n",
              "      <td>...</td>\n",
              "      <td>...</td>\n",
              "      <td>...</td>\n",
              "      <td>...</td>\n",
              "    </tr>\n",
              "    <tr>\n",
              "      <th>8242</th>\n",
              "      <td>1</td>\n",
              "      <td>-1.294924</td>\n",
              "      <td>1.559114</td>\n",
              "      <td>-0.175000</td>\n",
              "      <td>0.532360</td>\n",
              "      <td>1</td>\n",
              "      <td>0</td>\n",
              "      <td>1</td>\n",
              "      <td>0</td>\n",
              "      <td>1</td>\n",
              "    </tr>\n",
              "    <tr>\n",
              "      <th>8243</th>\n",
              "      <td>1</td>\n",
              "      <td>0.776954</td>\n",
              "      <td>-3.367686</td>\n",
              "      <td>-1.050002</td>\n",
              "      <td>0.638833</td>\n",
              "      <td>0</td>\n",
              "      <td>0</td>\n",
              "      <td>0</td>\n",
              "      <td>0</td>\n",
              "      <td>1</td>\n",
              "    </tr>\n",
              "    <tr>\n",
              "      <th>8244</th>\n",
              "      <td>1</td>\n",
              "      <td>-1.100685</td>\n",
              "      <td>1.559114</td>\n",
              "      <td>-0.525001</td>\n",
              "      <td>-0.212944</td>\n",
              "      <td>0</td>\n",
              "      <td>0</td>\n",
              "      <td>0</td>\n",
              "      <td>0</td>\n",
              "      <td>1</td>\n",
              "    </tr>\n",
              "    <tr>\n",
              "      <th>8245</th>\n",
              "      <td>1</td>\n",
              "      <td>-0.517970</td>\n",
              "      <td>-0.436552</td>\n",
              "      <td>-0.700002</td>\n",
              "      <td>0.532360</td>\n",
              "      <td>0</td>\n",
              "      <td>0</td>\n",
              "      <td>0</td>\n",
              "      <td>0</td>\n",
              "      <td>1</td>\n",
              "    </tr>\n",
              "    <tr>\n",
              "      <th>9689</th>\n",
              "      <td>0</td>\n",
              "      <td>0.129492</td>\n",
              "      <td>0.623645</td>\n",
              "      <td>0.175000</td>\n",
              "      <td>2.661802</td>\n",
              "      <td>0</td>\n",
              "      <td>0</td>\n",
              "      <td>0</td>\n",
              "      <td>1</td>\n",
              "      <td>1</td>\n",
              "    </tr>\n",
              "  </tbody>\n",
              "</table>\n",
              "<p>6272 rows × 10 columns</p>\n",
              "</div>"
            ],
            "text/plain": [
              "      Home_Favorite  Temperature  Humidity  ...  Fog  Playoff  Home_Win\n",
              "9                 1     1.165432  1.184926  ...    0        0         1\n",
              "10                0     0.841701  0.374187  ...    0        0         0\n",
              "11                1     1.100685  0.000000  ...    0        0         1\n",
              "12                1     0.517970 -1.870936  ...    0        0         1\n",
              "13                1     0.971193  0.187094  ...    0        0         1\n",
              "...             ...          ...       ...  ...  ...      ...       ...\n",
              "8242              1    -1.294924  1.559114  ...    1        0         1\n",
              "8243              1     0.776954 -3.367686  ...    0        0         1\n",
              "8244              1    -1.100685  1.559114  ...    0        0         1\n",
              "8245              1    -0.517970 -0.436552  ...    0        0         1\n",
              "9689              0     0.129492  0.623645  ...    0        1         1\n",
              "\n",
              "[6272 rows x 10 columns]"
            ]
          },
          "metadata": {},
          "execution_count": 71
        }
      ]
    },
    {
      "cell_type": "code",
      "metadata": {
        "colab": {
          "base_uri": "https://localhost:8080/",
          "height": 379
        },
        "id": "Nj4lnTh-Dyvz",
        "outputId": "bb27655f-ad56-4b16-e228-1e208232def1"
      },
      "source": [
        "  X.corr()"
      ],
      "execution_count": null,
      "outputs": [
        {
          "output_type": "execute_result",
          "data": {
            "text/html": [
              "<div>\n",
              "<style scoped>\n",
              "    .dataframe tbody tr th:only-of-type {\n",
              "        vertical-align: middle;\n",
              "    }\n",
              "\n",
              "    .dataframe tbody tr th {\n",
              "        vertical-align: top;\n",
              "    }\n",
              "\n",
              "    .dataframe thead th {\n",
              "        text-align: right;\n",
              "    }\n",
              "</style>\n",
              "<table border=\"1\" class=\"dataframe\">\n",
              "  <thead>\n",
              "    <tr style=\"text-align: right;\">\n",
              "      <th></th>\n",
              "      <th>Home_Favorite</th>\n",
              "      <th>Temperature</th>\n",
              "      <th>Humidity</th>\n",
              "      <th>Wind</th>\n",
              "      <th>Over_Under</th>\n",
              "      <th>Rain</th>\n",
              "      <th>Snow</th>\n",
              "      <th>Fog</th>\n",
              "      <th>Playoff</th>\n",
              "      <th>Home_Win</th>\n",
              "    </tr>\n",
              "  </thead>\n",
              "  <tbody>\n",
              "    <tr>\n",
              "      <th>Home_Favorite</th>\n",
              "      <td>1.000000</td>\n",
              "      <td>-0.015593</td>\n",
              "      <td>0.008292</td>\n",
              "      <td>0.033777</td>\n",
              "      <td>-0.017991</td>\n",
              "      <td>-0.003455</td>\n",
              "      <td>0.016447</td>\n",
              "      <td>0.003594</td>\n",
              "      <td>-0.018301</td>\n",
              "      <td>0.282557</td>\n",
              "    </tr>\n",
              "    <tr>\n",
              "      <th>Temperature</th>\n",
              "      <td>-0.015593</td>\n",
              "      <td>1.000000</td>\n",
              "      <td>-0.023081</td>\n",
              "      <td>-0.193344</td>\n",
              "      <td>0.086904</td>\n",
              "      <td>0.013382</td>\n",
              "      <td>-0.086626</td>\n",
              "      <td>-0.016689</td>\n",
              "      <td>0.006008</td>\n",
              "      <td>-0.039486</td>\n",
              "    </tr>\n",
              "    <tr>\n",
              "      <th>Humidity</th>\n",
              "      <td>0.008292</td>\n",
              "      <td>-0.023081</td>\n",
              "      <td>1.000000</td>\n",
              "      <td>0.036437</td>\n",
              "      <td>-0.067725</td>\n",
              "      <td>0.083314</td>\n",
              "      <td>0.020739</td>\n",
              "      <td>0.089699</td>\n",
              "      <td>0.009018</td>\n",
              "      <td>-0.010055</td>\n",
              "    </tr>\n",
              "    <tr>\n",
              "      <th>Wind</th>\n",
              "      <td>0.033777</td>\n",
              "      <td>-0.193344</td>\n",
              "      <td>0.036437</td>\n",
              "      <td>1.000000</td>\n",
              "      <td>-0.117398</td>\n",
              "      <td>-0.060438</td>\n",
              "      <td>-0.002021</td>\n",
              "      <td>-0.048340</td>\n",
              "      <td>-0.002949</td>\n",
              "      <td>0.030644</td>\n",
              "    </tr>\n",
              "    <tr>\n",
              "      <th>Over_Under</th>\n",
              "      <td>-0.017991</td>\n",
              "      <td>0.086904</td>\n",
              "      <td>-0.067725</td>\n",
              "      <td>-0.117398</td>\n",
              "      <td>1.000000</td>\n",
              "      <td>0.028735</td>\n",
              "      <td>0.022901</td>\n",
              "      <td>0.046136</td>\n",
              "      <td>0.041078</td>\n",
              "      <td>-0.011113</td>\n",
              "    </tr>\n",
              "    <tr>\n",
              "      <th>Rain</th>\n",
              "      <td>-0.003455</td>\n",
              "      <td>0.013382</td>\n",
              "      <td>0.083314</td>\n",
              "      <td>-0.060438</td>\n",
              "      <td>0.028735</td>\n",
              "      <td>1.000000</td>\n",
              "      <td>0.030882</td>\n",
              "      <td>0.401846</td>\n",
              "      <td>-0.001262</td>\n",
              "      <td>0.021767</td>\n",
              "    </tr>\n",
              "    <tr>\n",
              "      <th>Snow</th>\n",
              "      <td>0.016447</td>\n",
              "      <td>-0.086626</td>\n",
              "      <td>0.020739</td>\n",
              "      <td>-0.002021</td>\n",
              "      <td>0.022901</td>\n",
              "      <td>0.030882</td>\n",
              "      <td>1.000000</td>\n",
              "      <td>0.166155</td>\n",
              "      <td>-0.000576</td>\n",
              "      <td>-0.011541</td>\n",
              "    </tr>\n",
              "    <tr>\n",
              "      <th>Fog</th>\n",
              "      <td>0.003594</td>\n",
              "      <td>-0.016689</td>\n",
              "      <td>0.089699</td>\n",
              "      <td>-0.048340</td>\n",
              "      <td>0.046136</td>\n",
              "      <td>0.401846</td>\n",
              "      <td>0.166155</td>\n",
              "      <td>1.000000</td>\n",
              "      <td>-0.001049</td>\n",
              "      <td>0.007026</td>\n",
              "    </tr>\n",
              "    <tr>\n",
              "      <th>Playoff</th>\n",
              "      <td>-0.018301</td>\n",
              "      <td>0.006008</td>\n",
              "      <td>0.009018</td>\n",
              "      <td>-0.002949</td>\n",
              "      <td>0.041078</td>\n",
              "      <td>-0.001262</td>\n",
              "      <td>-0.000576</td>\n",
              "      <td>-0.001049</td>\n",
              "      <td>1.000000</td>\n",
              "      <td>0.010608</td>\n",
              "    </tr>\n",
              "    <tr>\n",
              "      <th>Home_Win</th>\n",
              "      <td>0.282557</td>\n",
              "      <td>-0.039486</td>\n",
              "      <td>-0.010055</td>\n",
              "      <td>0.030644</td>\n",
              "      <td>-0.011113</td>\n",
              "      <td>0.021767</td>\n",
              "      <td>-0.011541</td>\n",
              "      <td>0.007026</td>\n",
              "      <td>0.010608</td>\n",
              "      <td>1.000000</td>\n",
              "    </tr>\n",
              "  </tbody>\n",
              "</table>\n",
              "</div>"
            ],
            "text/plain": [
              "               Home_Favorite  Temperature  ...   Playoff  Home_Win\n",
              "Home_Favorite       1.000000    -0.015593  ... -0.018301  0.282557\n",
              "Temperature        -0.015593     1.000000  ...  0.006008 -0.039486\n",
              "Humidity            0.008292    -0.023081  ...  0.009018 -0.010055\n",
              "Wind                0.033777    -0.193344  ... -0.002949  0.030644\n",
              "Over_Under         -0.017991     0.086904  ...  0.041078 -0.011113\n",
              "Rain               -0.003455     0.013382  ... -0.001262  0.021767\n",
              "Snow                0.016447    -0.086626  ... -0.000576 -0.011541\n",
              "Fog                 0.003594    -0.016689  ... -0.001049  0.007026\n",
              "Playoff            -0.018301     0.006008  ...  1.000000  0.010608\n",
              "Home_Win            0.282557    -0.039486  ...  0.010608  1.000000\n",
              "\n",
              "[10 rows x 10 columns]"
            ]
          },
          "metadata": {},
          "execution_count": 72
        }
      ]
    },
    {
      "cell_type": "code",
      "metadata": {
        "colab": {
          "base_uri": "https://localhost:8080/",
          "height": 317
        },
        "id": "LamCCo1xzSni",
        "outputId": "05a6d76c-c1b8-4079-a830-c31415822a1c"
      },
      "source": [
        "X.describe()"
      ],
      "execution_count": null,
      "outputs": [
        {
          "output_type": "execute_result",
          "data": {
            "text/html": [
              "<div>\n",
              "<style scoped>\n",
              "    .dataframe tbody tr th:only-of-type {\n",
              "        vertical-align: middle;\n",
              "    }\n",
              "\n",
              "    .dataframe tbody tr th {\n",
              "        vertical-align: top;\n",
              "    }\n",
              "\n",
              "    .dataframe thead th {\n",
              "        text-align: right;\n",
              "    }\n",
              "</style>\n",
              "<table border=\"1\" class=\"dataframe\">\n",
              "  <thead>\n",
              "    <tr style=\"text-align: right;\">\n",
              "      <th></th>\n",
              "      <th>Home_Favorite</th>\n",
              "      <th>Temperature</th>\n",
              "      <th>Humidity</th>\n",
              "      <th>Wind</th>\n",
              "      <th>Over_Under</th>\n",
              "      <th>Rain</th>\n",
              "      <th>Snow</th>\n",
              "      <th>Fog</th>\n",
              "      <th>Playoff</th>\n",
              "      <th>Home_Win</th>\n",
              "    </tr>\n",
              "  </thead>\n",
              "  <tbody>\n",
              "    <tr>\n",
              "      <th>count</th>\n",
              "      <td>6272.000000</td>\n",
              "      <td>6272.000000</td>\n",
              "      <td>6272.000000</td>\n",
              "      <td>6272.000000</td>\n",
              "      <td>6272.000000</td>\n",
              "      <td>6272.000000</td>\n",
              "      <td>6272.000000</td>\n",
              "      <td>6272.000000</td>\n",
              "      <td>6272.000000</td>\n",
              "      <td>6272.000000</td>\n",
              "    </tr>\n",
              "    <tr>\n",
              "      <th>mean</th>\n",
              "      <td>0.677455</td>\n",
              "      <td>-0.350127</td>\n",
              "      <td>-0.090484</td>\n",
              "      <td>0.357785</td>\n",
              "      <td>-0.273205</td>\n",
              "      <td>0.009885</td>\n",
              "      <td>0.002073</td>\n",
              "      <td>0.006856</td>\n",
              "      <td>0.000159</td>\n",
              "      <td>0.586256</td>\n",
              "    </tr>\n",
              "    <tr>\n",
              "      <th>std</th>\n",
              "      <td>0.467487</td>\n",
              "      <td>1.008089</td>\n",
              "      <td>1.000097</td>\n",
              "      <td>0.782896</td>\n",
              "      <td>0.902322</td>\n",
              "      <td>0.098940</td>\n",
              "      <td>0.045483</td>\n",
              "      <td>0.082522</td>\n",
              "      <td>0.012627</td>\n",
              "      <td>0.492543</td>\n",
              "    </tr>\n",
              "    <tr>\n",
              "      <th>min</th>\n",
              "      <td>0.000000</td>\n",
              "      <td>-4.143757</td>\n",
              "      <td>-3.991331</td>\n",
              "      <td>-1.400003</td>\n",
              "      <td>-2.981218</td>\n",
              "      <td>0.000000</td>\n",
              "      <td>0.000000</td>\n",
              "      <td>0.000000</td>\n",
              "      <td>0.000000</td>\n",
              "      <td>0.000000</td>\n",
              "    </tr>\n",
              "    <tr>\n",
              "      <th>25%</th>\n",
              "      <td>0.000000</td>\n",
              "      <td>-1.035939</td>\n",
              "      <td>-0.748375</td>\n",
              "      <td>-0.175000</td>\n",
              "      <td>-0.958249</td>\n",
              "      <td>0.000000</td>\n",
              "      <td>0.000000</td>\n",
              "      <td>0.000000</td>\n",
              "      <td>0.000000</td>\n",
              "      <td>0.000000</td>\n",
              "    </tr>\n",
              "    <tr>\n",
              "      <th>50%</th>\n",
              "      <td>1.000000</td>\n",
              "      <td>-0.258985</td>\n",
              "      <td>0.000000</td>\n",
              "      <td>0.175000</td>\n",
              "      <td>-0.319416</td>\n",
              "      <td>0.000000</td>\n",
              "      <td>0.000000</td>\n",
              "      <td>0.000000</td>\n",
              "      <td>0.000000</td>\n",
              "      <td>1.000000</td>\n",
              "    </tr>\n",
              "    <tr>\n",
              "      <th>75%</th>\n",
              "      <td>1.000000</td>\n",
              "      <td>0.388477</td>\n",
              "      <td>0.623645</td>\n",
              "      <td>0.700002</td>\n",
              "      <td>0.319416</td>\n",
              "      <td>0.000000</td>\n",
              "      <td>0.000000</td>\n",
              "      <td>0.000000</td>\n",
              "      <td>0.000000</td>\n",
              "      <td>1.000000</td>\n",
              "    </tr>\n",
              "    <tr>\n",
              "      <th>max</th>\n",
              "      <td>1.000000</td>\n",
              "      <td>2.201371</td>\n",
              "      <td>1.995665</td>\n",
              "      <td>4.200009</td>\n",
              "      <td>4.471828</td>\n",
              "      <td>1.000000</td>\n",
              "      <td>1.000000</td>\n",
              "      <td>1.000000</td>\n",
              "      <td>1.000000</td>\n",
              "      <td>1.000000</td>\n",
              "    </tr>\n",
              "  </tbody>\n",
              "</table>\n",
              "</div>"
            ],
            "text/plain": [
              "       Home_Favorite  Temperature  ...      Playoff     Home_Win\n",
              "count    6272.000000  6272.000000  ...  6272.000000  6272.000000\n",
              "mean        0.677455    -0.350127  ...     0.000159     0.586256\n",
              "std         0.467487     1.008089  ...     0.012627     0.492543\n",
              "min         0.000000    -4.143757  ...     0.000000     0.000000\n",
              "25%         0.000000    -1.035939  ...     0.000000     0.000000\n",
              "50%         1.000000    -0.258985  ...     0.000000     1.000000\n",
              "75%         1.000000     0.388477  ...     0.000000     1.000000\n",
              "max         1.000000     2.201371  ...     1.000000     1.000000\n",
              "\n",
              "[8 rows x 10 columns]"
            ]
          },
          "metadata": {},
          "execution_count": 73
        }
      ]
    },
    {
      "cell_type": "code",
      "metadata": {
        "id": "SRXA8KND4sfZ"
      },
      "source": [
        "Y = np.matrix(X['Home_Win']).T\n",
        "x = X.drop('Home_Win',axis=1).to_numpy()"
      ],
      "execution_count": null,
      "outputs": []
    },
    {
      "cell_type": "code",
      "metadata": {
        "id": "s4VO4aoNWq5C"
      },
      "source": [
        "sample = np.random.choice(x.shape[0],size=x.shape[0]//5)\n",
        "x_train = x[~sample,:]\n",
        "x_test = x[sample,:]\n",
        "y_train = Y[~sample]\n",
        "y_test = Y[sample]"
      ],
      "execution_count": null,
      "outputs": []
    },
    {
      "cell_type": "code",
      "metadata": {
        "colab": {
          "base_uri": "https://localhost:8080/"
        },
        "id": "T4_MU8l34zCa",
        "outputId": "43d261bc-7bb4-4799-e0a6-0b8b6e1935b6"
      },
      "source": [
        "x"
      ],
      "execution_count": null,
      "outputs": [
        {
          "output_type": "execute_result",
          "data": {
            "text/plain": [
              "array([[ 1.        ,  1.1654317 ,  1.18492639, ...,  0.        ,\n",
              "         0.        ,  0.        ],\n",
              "       [ 0.        ,  0.84170067,  0.37418728, ...,  0.        ,\n",
              "         0.        ,  0.        ],\n",
              "       [ 1.        ,  1.10068549,  0.        , ...,  0.        ,\n",
              "         0.        ,  0.        ],\n",
              "       ...,\n",
              "       [ 1.        , -1.10068549,  1.55911367, ...,  0.        ,\n",
              "         0.        ,  0.        ],\n",
              "       [ 1.        , -0.51796964, -0.43655183, ...,  0.        ,\n",
              "         0.        ,  0.        ],\n",
              "       [ 0.        ,  0.12949241,  0.62364547, ...,  0.        ,\n",
              "         0.        ,  1.        ]])"
            ]
          },
          "metadata": {},
          "execution_count": 94
        }
      ]
    },
    {
      "cell_type": "markdown",
      "metadata": {
        "id": "TfjNLdmT3r5x"
      },
      "source": [
        "# Task 3 Implement Logistic Regression"
      ]
    },
    {
      "cell_type": "code",
      "metadata": {
        "id": "QQk0QHvY6CqI"
      },
      "source": [
        "def sigmoid(X):\n",
        "  return (1/(1+np.exp(-X)))\n"
      ],
      "execution_count": null,
      "outputs": []
    },
    {
      "cell_type": "code",
      "metadata": {
        "id": "aGncZ56j3rTh"
      },
      "source": [
        "def logisticRegression(X,Y,batchSize=-1,epochs=1000,eta=.001):\n",
        "  w = np.matrix(np.random.random((1,X.shape[1])))\n",
        "  b = np.random.random((1))\n",
        "  for i in range(epochs):\n",
        "    if batchSize > 0:\n",
        "      sample = np.random.choice(X.shape[0],size=batchSize)\n",
        "      x = X[sample,:]\n",
        "      y = Y[sample]\n",
        "    else:\n",
        "      x = X\n",
        "      y = Y\n",
        "    n= x.shape[0]\n",
        "    A = sigmoid(np.dot(w,x.T) + b).T\n",
        "\n",
        "    # cost=-1/m * np.sum(Y * np.log(A) + (1-Y) * (np.log(1-A)))\n",
        "    dw = np.dot(x.T, (A-y))/n\n",
        "    db= np.sum(A-y)/n\n",
        "    w = w - eta*dw.T\n",
        "    b= b - eta*db\n",
        "    if i % 10000 == 0:\n",
        "      print(np.sum(np.square(Y-sigmoid(np.dot(w,X.T) + b).T)))\n",
        "  return w,b"
      ],
      "execution_count": null,
      "outputs": []
    },
    {
      "cell_type": "markdown",
      "metadata": {
        "id": "0N9IftBDG4jx"
      },
      "source": [
        "### Batch Gradient Descent with learning rate .01"
      ]
    },
    {
      "cell_type": "code",
      "metadata": {
        "colab": {
          "base_uri": "https://localhost:8080/"
        },
        "id": "rULMaXC5_2wb",
        "outputId": "5a40bfdc-2428-4be8-b0ed-6bb2144f77c7"
      },
      "source": [
        "w,b = logisticRegression(x_train,y_train,epochs=100000,eta=.01)\n",
        "\n",
        "print(\"Batch Accuracy:\",accuracy_score(y_test,np.where(sigmoid(np.dot(w,x_test.T) + b).T>.5,1,0)))"
      ],
      "execution_count": null,
      "outputs": [
        {
          "output_type": "stream",
          "name": "stdout",
          "text": [
            "320.43189174481245\n",
            "283.3788122802628\n",
            "283.1454587537944\n",
            "282.96853417640887\n",
            "282.8290142853897\n",
            "282.7198961459402\n",
            "282.6349212956154\n",
            "282.5688185905369\n",
            "282.5173194799447\n",
            "282.4770540419793\n",
            "Batch Accuracy: 0.671451355661882\n"
          ]
        }
      ]
    },
    {
      "cell_type": "markdown",
      "metadata": {
        "id": "-xeMP2-UHAsW"
      },
      "source": [
        "### Stochastic Gradient Descent with learning rate .01"
      ]
    },
    {
      "cell_type": "code",
      "metadata": {
        "colab": {
          "base_uri": "https://localhost:8080/"
        },
        "id": "BkMEWCo9B1MJ",
        "outputId": "873857c1-6e98-4887-b678-14c5adbbb730"
      },
      "source": [
        "w,b = logisticRegression(x_train[:,0:],y_train,batchSize=1,epochs=100000,eta=.01)\n",
        "\n",
        "print(\"Stochastic Accuracy: \",accuracy_score(y_test,np.where(sigmoid(np.dot(w,x_test[:,0:].T) + b).T>.5,1,0)))"
      ],
      "execution_count": null,
      "outputs": [
        {
          "output_type": "stream",
          "name": "stdout",
          "text": [
            "375.25820355724727\n",
            "285.02193395548284\n",
            "285.3274889275977\n",
            "284.4622442652077\n",
            "283.65639735083784\n",
            "286.08127771760314\n",
            "284.8476180433594\n",
            "284.5291236142985\n",
            "282.85180875931695\n",
            "282.7029909472927\n",
            "Stochastic Accuracy:  0.6690590111642744\n"
          ]
        }
      ]
    },
    {
      "cell_type": "markdown",
      "metadata": {
        "id": "_J2OLtV6HXlU"
      },
      "source": [
        "### For Comparison The Accuracy of just picking the favorite"
      ]
    },
    {
      "cell_type": "code",
      "metadata": {
        "colab": {
          "base_uri": "https://localhost:8080/"
        },
        "id": "Q9dRr-h5BpAh",
        "outputId": "357ce610-ae64-455e-c771-6fd189df8e94"
      },
      "source": [
        "print(\"Always Pick the Favorite Accuracy:\",accuracy_score(y_test,x_test[:,0]))"
      ],
      "execution_count": null,
      "outputs": [
        {
          "output_type": "stream",
          "name": "stdout",
          "text": [
            "Always Pick the Favorite Accuracy: 0.6690590111642744\n"
          ]
        }
      ]
    },
    {
      "cell_type": "markdown",
      "metadata": {
        "id": "vcZCxdZ5Hn2q"
      },
      "source": [
        "# Task 4 Implement optimization Algorithms"
      ]
    },
    {
      "cell_type": "code",
      "metadata": {
        "id": "A8yi7hJyHsjD"
      },
      "source": [
        "def logisticRegressionMomentum(X,Y,batchSize=-1,epochs=1000,eta=.001,gamma=.9):\n",
        "  w = np.matrix(np.random.random((1,X.shape[1])))\n",
        "  b = np.random.random((1))\n",
        "  vw_1 = None\n",
        "  vb_1 = None\n",
        "  for i in range(epochs):\n",
        "    if batchSize > 0:\n",
        "      sample = np.random.choice(X.shape[0],size=batchSize)\n",
        "      x = X[sample,:]\n",
        "      y = Y[sample]\n",
        "    else:\n",
        "      x = X\n",
        "      y = Y\n",
        "    n= x.shape[0]\n",
        "    A = sigmoid(np.dot(w,x.T) + b).T\n",
        "\n",
        "    # cost=-1/m * np.sum(Y * np.log(A) + (1-Y) * (np.log(1-A)))\n",
        "    \n",
        "    dw = np.dot(x.T, (A-y))/n\n",
        "    db= np.sum(A-y)/n\n",
        "    if i > 1:\n",
        "      vw = gamma*vw_1 + eta*dw\n",
        "      vb = gamma*vb_1 + eta*db\n",
        "    else:\n",
        "      vw = eta * dw\n",
        "      vb = eta*db\n",
        "    w = w - vw.T\n",
        "    b= b - vb\n",
        "    vw_1 = vw\n",
        "    vb_1 = vb\n",
        "    if i % 10000 == 0:\n",
        "      print(np.sum(np.square(Y-sigmoid(np.dot(w,X.T) + b).T)))\n",
        "  return w,b"
      ],
      "execution_count": null,
      "outputs": []
    },
    {
      "cell_type": "code",
      "metadata": {
        "colab": {
          "base_uri": "https://localhost:8080/"
        },
        "id": "mrjYYW9GN1Te",
        "outputId": "a2e13342-35bf-4560-dc3c-ae20d46bb3ff"
      },
      "source": [
        "w,b = logisticRegressionMomentum(x_train,y_train,epochs=100000,eta=.01)\n",
        "\n",
        "print(\"Batch Accuracy with Momentum:\",accuracy_score(y_test,np.where(sigmoid(np.dot(w,x_test.T) + b).T>.5,1,0)))"
      ],
      "execution_count": null,
      "outputs": [
        {
          "output_type": "stream",
          "name": "stdout",
          "text": [
            "392.3316239259094\n",
            "282.33792478249086\n",
            "282.28019826659397\n",
            "282.2634752275634\n",
            "282.250765271271\n",
            "282.2404689854434\n",
            "282.2322969251991\n",
            "282.2258579514305\n",
            "282.2207647007034\n",
            "282.21669875492057\n",
            "Batch Accuracy with Momentum: 0.6706539074960127\n"
          ]
        }
      ]
    },
    {
      "cell_type": "code",
      "metadata": {
        "id": "NM5nl2SjSXNw"
      },
      "source": [
        "def logisticRegressionNesterov(X,Y,batchSize=-1,epochs=1000,eta=.001,gamma=.9):\n",
        "  w = np.matrix(np.random.random((1,X.shape[1])))\n",
        "  b = np.random.random((1))\n",
        "  vw_1 = None\n",
        "  vb_1 = None\n",
        "  for i in range(epochs):\n",
        "    if batchSize > 0:\n",
        "      sample = np.random.choice(X.shape[0],size=batchSize)\n",
        "      x = X[sample,:]\n",
        "      y = Y[sample]\n",
        "    else:\n",
        "      x = X\n",
        "      y = Y\n",
        "    n= x.shape[0]\n",
        "    if i > 1:\n",
        "      w = w - vw_1.T\n",
        "      b= b - vb_1\n",
        "    A = sigmoid(np.dot(w,x.T) + b).T\n",
        "\n",
        "    # cost=-1/m * np.sum(Y * np.log(A) + (1-Y) * (np.log(1-A)))\n",
        "    \n",
        "    dw = np.dot(x.T, (A-y))/n\n",
        "    db= np.sum(A-y)/n\n",
        "    if i > 1:\n",
        "      vw = gamma*vw_1 + eta*dw\n",
        "      vb = gamma*vb_1 + eta*db\n",
        "    else:\n",
        "      vw = eta * dw\n",
        "      vb = eta*db\n",
        "    w = w - vw.T\n",
        "    b= b - vb\n",
        "    vw_1 = vw\n",
        "    vb_1 = vb\n",
        "    if i % 10000 == 0:\n",
        "      print(np.sum(np.square(Y-sigmoid(np.dot(w,X.T) + b).T)))\n",
        "  return w,b"
      ],
      "execution_count": null,
      "outputs": []
    },
    {
      "cell_type": "code",
      "metadata": {
        "colab": {
          "base_uri": "https://localhost:8080/"
        },
        "id": "TrhAkR6dVHiS",
        "outputId": "19b36fb4-4e20-4744-9a52-6e3bb638f35e"
      },
      "source": [
        "w,b = logisticRegressionNesterov(x_train,y_train,epochs=100000,eta=.01)\n",
        "\n",
        "print(\"Batch Accuracy with Nesterov:\",accuracy_score(y_test,np.where(sigmoid(np.dot(w,x_test.T) + b).T>.5,1,0)))"
      ],
      "execution_count": null,
      "outputs": [
        {
          "output_type": "stream",
          "name": "stdout",
          "text": [
            "417.24551236772334\n",
            "282.28151548979275\n",
            "282.2510612298516\n",
            "282.23269408268624\n",
            "282.22104049620197\n",
            "282.2135994091818\n",
            "282.2086494459289\n",
            "282.20521431608694\n",
            "282.20274044708447\n",
            "282.2009018349487\n",
            "Batch Accuracy with Nesterov: 0.6706539074960127\n"
          ]
        }
      ]
    },
    {
      "cell_type": "markdown",
      "metadata": {
        "id": "e3Bu2GZiVrJQ"
      },
      "source": [
        "### Task 4 results\n",
        "\n",
        "These optimiztion algorithms achieved the same accuracy score on the sample however Nesterov was able to achieve it faster than the simple momentum algorithm as seen by looking at the printout of the mean square error.  Both of these were able to do this faster than the regular batch algorithm and the stochastic gradient descent.  It makes sense to use these algorithms in order to find the minimum faster, this time savings can then be used to better tune the hyper parameters to find a more optimal solution.  The downside however is that the test accuracy is slightly worse than that of the regular batch algorithm."
      ]
    }
  ]
}